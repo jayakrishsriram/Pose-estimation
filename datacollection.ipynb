{
 "cells": [
  {
   "cell_type": "code",
   "execution_count": 1,
   "metadata": {},
   "outputs": [],
   "source": [
    "import cv2\n",
    "import mediapipe as mp\n",
    "import pandas as pd\n",
    "import numpy as np\n",
    "import os"
   ]
  },
  {
   "cell_type": "code",
   "execution_count": 2,
   "metadata": {},
   "outputs": [],
   "source": [
    "root_directory_path = \"C:/Users/jayak/Downloads/Python workspace/infosys final work/pythonProject/ty3\" "
   ]
  },
  {
   "cell_type": "code",
   "execution_count": 3,
   "metadata": {},
   "outputs": [
    {
     "name": "stdout",
     "output_type": "stream",
     "text": [
      "Exercise in the directory: ['deadlift', 'hammer curl', 'pull Up', 'push-up', 'squat']\n"
     ]
    }
   ],
   "source": [
    "def list_folders(directory):\n",
    "    try:\n",
    "        # Get the list of all files and directories\n",
    "        items = os.listdir(directory)\n",
    "        # Filter out the folders\n",
    "        folders = [item for item in items if os.path.isdir(os.path.join(directory, item))]\n",
    "        return folders\n",
    "    except FileNotFoundError:\n",
    "        return f\"The directory '{directory}' does not exist.\"\n",
    "    except PermissionError:\n",
    "        return f\"Permission denied to access the directory '{directory}'.\"\n",
    "    except Exception as e:\n",
    "        return f\"An error occurred: {e}\"\n",
    "\n",
    "# Example usage\n",
    "exercise = list_folders(root_directory_path)\n",
    "print(\"Exercise in the directory:\", exercise)"
   ]
  },
  {
   "cell_type": "code",
   "execution_count": 4,
   "metadata": {},
   "outputs": [],
   "source": [
    "def list_all_files(root_directory):\n",
    "    all_files = []\n",
    "\n",
    "    for dirpath, dirnames, filenames in os.walk(root_directory):\n",
    "        for file in filenames:\n",
    "            full_path = os.path.join(dirpath, file)\n",
    "            all_files.append(full_path)\n",
    "    \n",
    "    return all_files\n"
   ]
  },
  {
   "cell_type": "code",
   "execution_count": 5,
   "metadata": {},
   "outputs": [
    {
     "data": {
      "text/plain": [
       "\"video_path = 'C:\\\\Users\\\\jayak\\\\Downloads\\\\Python workspace\\\\infosys\\\\ty\\\\push-up\\\\push-up_41.mp4'\""
      ]
     },
     "execution_count": 5,
     "metadata": {},
     "output_type": "execute_result"
    }
   ],
   "source": [
    "mp_pose = mp.solutions.pose\n",
    "pose = mp_pose.Pose(static_image_mode=False, min_detection_confidence=0.5, min_tracking_confidence=0.5)\n",
    "angle_pairs = [\n",
    "            ('LEFT_SHOULDER', 'LEFT_ELBOW', 'LEFT_WRIST'),\n",
    "            ('RIGHT_SHOULDER', 'RIGHT_ELBOW', 'RIGHT_WRIST'),\n",
    "            ('LEFT_HIP', 'LEFT_KNEE', 'LEFT_ANKLE'),\n",
    "            ('RIGHT_HIP', 'RIGHT_KNEE', 'RIGHT_ANKLE'),\n",
    "            ('LEFT_SHOULDER', 'LEFT_HIP', 'LEFT_KNEE'),\n",
    "            ('RIGHT_SHOULDER', 'RIGHT_HIP', 'RIGHT_KNEE'),\n",
    "            ('LEFT_ELBOW', 'LEFT_SHOULDER', 'LEFT_HIP'),\n",
    "            ('RIGHT_ELBOW', 'RIGHT_SHOULDER', 'RIGHT_HIP')\n",
    "            # Add more pairs as needed\n",
    "        ]\n",
    "\n",
    "\n",
    "\"\"\"video_path = 'C:\\\\Users\\\\jayak\\\\Downloads\\\\Python workspace\\\\infosys\\\\ty\\\\push-up\\\\push-up_41.mp4'\"\"\""
   ]
  },
  {
   "cell_type": "code",
   "execution_count": 6,
   "metadata": {},
   "outputs": [],
   "source": [
    "def calculate_angle(a, b, c):\n",
    "    a = np.array(a)  \n",
    "    b = np.array(b)  \n",
    "    c = np.array(c)  \n",
    "\n",
    "    radians = np.arctan2(c[1] - b[1], c[0] - b[0]) - np.arctan2(a[1] - b[1], a[0] - b[0])\n",
    "    angle = np.abs(radians * 180.0 / np.pi)\n",
    "\n",
    "    if angle > 180.0:\n",
    "        angle = 360 - angle\n",
    "\n",
    "    return angle"
   ]
  },
  {
   "cell_type": "code",
   "execution_count": 7,
   "metadata": {},
   "outputs": [],
   "source": [
    "def create_csv(all_files,label):\n",
    "    angles_data = []\n",
    "    for video_path in all_files:   \n",
    "        cap = cv2.VideoCapture(video_path)\n",
    "\n",
    "        frame_count = 0  # Initialize frame_count here\n",
    "\n",
    "        interval = 1  # Interval to process frames\n",
    "\n",
    "        # Define pairs of landmarks to calculate angles\n",
    "        \n",
    "        while cap.isOpened():\n",
    "            ret, frame = cap.read()\n",
    "            if not ret:\n",
    "                break\n",
    "\n",
    "            frame_count += 1\n",
    "            if frame_count % interval == 0:\n",
    "                frame_rgb = cv2.cvtColor(frame, cv2.COLOR_BGR2RGB)\n",
    "                result = pose.process(frame_rgb)\n",
    "\n",
    "                if result.pose_landmarks:\n",
    "                    landmarks = result.pose_landmarks.landmark\n",
    "\n",
    "                    # Collect angles for each specified pair\n",
    "                    frame_angles = {'Frame': frame_count}\n",
    "                    for pair in angle_pairs+[label]:\n",
    "                        if pair not in exercise:\n",
    "                            a = [landmarks[getattr(mp_pose.PoseLandmark, pair[0]).value].x,\n",
    "                            landmarks[getattr(mp_pose.PoseLandmark, pair[0]).value].y]\n",
    "                            b = [landmarks[getattr(mp_pose.PoseLandmark, pair[1]).value].x,\n",
    "                            landmarks[getattr(mp_pose.PoseLandmark, pair[1]).value].y]\n",
    "                            c = [landmarks[getattr(mp_pose.PoseLandmark, pair[2]).value].x,\n",
    "                            landmarks[getattr(mp_pose.PoseLandmark, pair[2]).value].y]\n",
    "\n",
    "                            angle = calculate_angle(a, b, c)\n",
    "                            frame_angles[f'{pair[0]}-{pair[1]}-{pair[2]}'] = angle\n",
    "                        else:\n",
    "                            frame_angles[\"Exercise\"]=pair\n",
    "\n",
    "                    # Append the frame's angles to the list\n",
    "                    angles_data.append(frame_angles)\n",
    "\n",
    "        cap.release()\n",
    "\n",
    "        # Save angles data to a CSV file for each video\n",
    "    df = pd.DataFrame(angles_data)\n",
    "    df.to_csv(f\"{label}.csv\", index=False)"
   ]
  },
  {
   "cell_type": "code",
   "execution_count": 9,
   "metadata": {},
   "outputs": [],
   "source": [
    "for label in exercise:\n",
    "    all_files=list_all_files(root_directory_path+\"/\"+label)\n",
    "    create_csv(all_files,label)\n",
    "\n",
    "    "
   ]
  },
  {
   "cell_type": "code",
   "execution_count": 10,
   "metadata": {},
   "outputs": [],
   "source": [
    "def merge_csv(directory):\n",
    "    df_list = []\n",
    "    for filename in os.listdir(directory):\n",
    "        if filename.endswith('.csv'):\n",
    "            df = os.path.join(directory, filename)\n",
    "            df_list.append(df)\n",
    "    combine_df= pd.read_csv(df_list[0])\n",
    "    for i in range(1,len(df_list)):\n",
    "        df=pd.read_csv(df_list[i])\n",
    "        combine_df=pd.concat([combine_df,df], ignore_index=True)\n",
    "    \n",
    "    combine_df.to_csv('jayakrishna_combine_angles.csv', index=False) \n",
    "base_path = \"C:/Users/jayak/Downloads/Python workspace/infosys final work/pythonProject\" \n",
    "merge_csv(base_path)"
   ]
  }
 ],
 "metadata": {
  "kernelspec": {
   "display_name": "Python 3",
   "language": "python",
   "name": "python3"
  },
  "language_info": {
   "codemirror_mode": {
    "name": "ipython",
    "version": 3
   },
   "file_extension": ".py",
   "mimetype": "text/x-python",
   "name": "python",
   "nbconvert_exporter": "python",
   "pygments_lexer": "ipython3",
   "version": "3.11.9"
  }
 },
 "nbformat": 4,
 "nbformat_minor": 2
}
