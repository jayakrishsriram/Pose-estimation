{
 "cells": [
  {
   "cell_type": "code",
   "execution_count": 1,
   "metadata": {},
   "outputs": [],
   "source": [
    "import cv2\n",
    "import numpy as np\n",
    "import pandas as pd\n",
    "from sklearn.ensemble import RandomForestClassifier\n",
    "from sklearn.model_selection import train_test_split\n",
    "from sklearn.metrics import accuracy_score, classification_report\n",
    "from joblib import dump"
   ]
  },
  {
   "cell_type": "code",
   "execution_count": 2,
   "metadata": {},
   "outputs": [
    {
     "name": "stdout",
     "output_type": "stream",
     "text": [
      "Accuracy: 0.9902107085298155\n",
      "              precision    recall  f1-score   support\n",
      "\n",
      "    deadlift       0.98      0.95      0.96      1033\n",
      " hammer curl       0.97      0.93      0.95      1114\n",
      "     pull Up       1.00      1.00      1.00      3801\n",
      "     push-up       0.99      1.00      1.00      5772\n",
      "       squat       0.99      1.00      0.99      5033\n",
      "\n",
      "    accuracy                           0.99     16753\n",
      "   macro avg       0.98      0.97      0.98     16753\n",
      "weighted avg       0.99      0.99      0.99     16753\n",
      "\n"
     ]
    }
   ],
   "source": [
    "df = pd.read_csv(\"jayakrishna_combine_angles.csv\")\n",
    "\n",
    "features = [\n",
    "    'LEFT_SHOULDER-LEFT_ELBOW-LEFT_WRIST', \n",
    "    'RIGHT_SHOULDER-RIGHT_ELBOW-RIGHT_WRIST', \n",
    "    'LEFT_HIP-LEFT_KNEE-LEFT_ANKLE', \n",
    "    'RIGHT_HIP-RIGHT_KNEE-RIGHT_ANKLE', \n",
    "    'LEFT_SHOULDER-LEFT_HIP-LEFT_KNEE', \n",
    "    'RIGHT_SHOULDER-RIGHT_HIP-RIGHT_KNEE', \n",
    "    'LEFT_ELBOW-LEFT_SHOULDER-LEFT_HIP', \n",
    "    'RIGHT_ELBOW-RIGHT_SHOULDER-RIGHT_HIP'\n",
    "]\n",
    "X = df[features]\n",
    "y = df['Exercise']\n",
    "\n",
    "\n",
    "X_train, X_test, y_train, y_test = train_test_split(X, y, test_size=0.2, random_state=42)\n",
    "\n",
    "model = RandomForestClassifier(n_estimators=100, random_state=42)\n",
    "model.fit(X_train, y_train)\n",
    "\n",
    "y_pred = model.predict(X_test)\n",
    "print(f'Accuracy: {accuracy_score(y_test, y_pred)}')\n",
    "print(classification_report(y_test, y_pred))"
   ]
  },
  {
   "cell_type": "code",
   "execution_count": 3,
   "metadata": {},
   "outputs": [
    {
     "data": {
      "text/plain": [
       "['randomforest2.model']"
      ]
     },
     "execution_count": 3,
     "metadata": {},
     "output_type": "execute_result"
    }
   ],
   "source": [
    "dump(model, 'randomforest2.model')"
   ]
  },
  {
   "cell_type": "code",
   "execution_count": null,
   "metadata": {},
   "outputs": [],
   "source": []
  }
 ],
 "metadata": {
  "kernelspec": {
   "display_name": "Python 3",
   "language": "python",
   "name": "python3"
  },
  "language_info": {
   "codemirror_mode": {
    "name": "ipython",
    "version": 3
   },
   "file_extension": ".py",
   "mimetype": "text/x-python",
   "name": "python",
   "nbconvert_exporter": "python",
   "pygments_lexer": "ipython3",
   "version": "3.11.9"
  }
 },
 "nbformat": 4,
 "nbformat_minor": 2
}
